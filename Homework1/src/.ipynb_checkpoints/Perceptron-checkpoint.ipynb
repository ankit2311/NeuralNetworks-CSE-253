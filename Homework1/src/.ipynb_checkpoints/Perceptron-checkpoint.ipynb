{
 "cells": [
  {
   "cell_type": "code",
   "execution_count": 65,
   "metadata": {
    "collapsed": true
   },
   "outputs": [],
   "source": [
    "%matplotlib inline"
   ]
  },
  {
   "cell_type": "code",
   "execution_count": 83,
   "metadata": {
    "collapsed": true
   },
   "outputs": [],
   "source": [
    "import pandas as pd\n",
    "from numba import jit\n",
    "import seaborn as sns\n",
    "from collections import defaultdict\n",
    "import numpy as np"
   ]
  },
  {
   "cell_type": "code",
   "execution_count": 149,
   "metadata": {
    "collapsed": false
   },
   "outputs": [],
   "source": [
    "iris_train = pd.read_csv(\"../data/iris/iris_train.data\", names = [\"sepal_length\",\"sepal_width\",\"petal_length\",\"petal_width\",\"label\"])\n",
    "iris_test = pd.read_csv(\"../data/iris/iris_test.data\", names = [\"sepal_length\",\"sepal_width\",\"petal_length\",\"petal_width\",\"label\"])"
   ]
  },
  {
   "cell_type": "code",
   "execution_count": 150,
   "metadata": {
    "collapsed": true
   },
   "outputs": [],
   "source": [
    "class Transformation(object):\n",
    "    def __init__(self, df_train):\n",
    "        self.cols_stats = defaultdict(lambda: {})\n",
    "        cols = list(df_train.columns)\n",
    "        cols.remove(\"label\")\n",
    "        self.cols = cols\n",
    "        for col in cols:\n",
    "            self.cols_stats[col]['mean'] = df_train[col].mean()\n",
    "            self.cols_stats[col]['std'] = df_train[col].std(ddof=0)\n",
    "        \n",
    "    def transform(self, df_orig):\n",
    "        df = df_orig.copy(deep = True)\n",
    "        for col in self.cols:\n",
    "            df[col] = (df[col] - self.cols_stats[col]['mean']) / self.cols_stats[col]['std']\n",
    "        return df        "
   ]
  },
  {
   "cell_type": "code",
   "execution_count": 151,
   "metadata": {
    "collapsed": true
   },
   "outputs": [],
   "source": [
    "trans = Transformation(iris_train)\n",
    "iris_train_z = trans.transform(iris_train)\n",
    "iris_test_z = trans.transform(iris_test)"
   ]
  },
  {
   "cell_type": "code",
   "execution_count": null,
   "metadata": {
    "collapsed": true
   },
   "outputs": [],
   "source": [
    "sns.pairplot(iris_test_z, hue=\"label\")"
   ]
  },
  {
   "cell_type": "code",
   "execution_count": 238,
   "metadata": {
    "collapsed": false
   },
   "outputs": [],
   "source": [
    "class Perceptron(object):\n",
    "    def __init__(self, df_train, df_test, label = \"label\", max_iterations = 5, eta = .01):\n",
    "        self.df_train = df_train.copy(deep = True)\n",
    "        self.df_test = df_test.copy(deep = True)\n",
    "        self.target =  np.array(self.df_train.label == \"Iris-setosa\")\n",
    "        self.max_iterations = max_iterations\n",
    "        self.eta = eta\n",
    "        self.predictors = list(self.df_train.columns)\n",
    "        self.predictors.remove(label)\n",
    "        np.random.seed(2)\n",
    "        self.weights = np.random.rand(len(self.predictors) + 1) * 2 - 1\n",
    "        self.df_train.drop('label', axis=1, inplace=True)\n",
    "        self.df_test['label'] = self.df_test['label'] == \"Iris-setosa\"\n",
    "        \n",
    "    def response(self, x):\n",
    "        y = self.weights.dot(x)\n",
    "        return 1 if y >= 0 else 0\n",
    "\n",
    "    def train(self):\n",
    "        stop = False\n",
    "        iterations = 0\n",
    "        while not stop:\n",
    "            for index, row in self.df_train.iterrows():\n",
    "                input = np.append(np.array(row), 1)\n",
    "                self.weights += self.eta * (self.target[index] - self.response(input)) * input\n",
    "            print \"after\", self.weights, self.test_error()\n",
    "            iterations += 1\n",
    "            if iterations > self.max_iterations:\n",
    "                stop = True\n",
    "            \n",
    "    def test_error(self):\n",
    "        predictions = []\n",
    "        for index, row in self.df_test.iterrows():\n",
    "            input = np.append(np.array(row[:4]), 1)\n",
    "            predictions.append(self.response(input))\n",
    "        error = sum(predictions != self.df_test.label)\n",
    "        return error * 1.0 / len(self.df_test)\n",
    "        "
   ]
  },
  {
   "cell_type": "code",
   "execution_count": 239,
   "metadata": {
    "collapsed": true
   },
   "outputs": [],
   "source": [
    "clf = Perceptron(iris_train_z, iris_test_z)"
   ]
  },
  {
   "cell_type": "code",
   "execution_count": 240,
   "metadata": {
    "collapsed": false
   },
   "outputs": [
    {
     "data": {
      "text/plain": [
       "array([-0.1280102 , -0.94814754,  0.09932496, -0.12935521, -0.1592644 ])"
      ]
     },
     "execution_count": 240,
     "metadata": {},
     "output_type": "execute_result"
    }
   ],
   "source": [
    "clf.weights"
   ]
  },
  {
   "cell_type": "code",
   "execution_count": 241,
   "metadata": {
    "collapsed": false
   },
   "outputs": [
    {
     "name": "stdout",
     "output_type": "stream",
     "text": [
      "after [-0.2364591  -0.5375032  -0.18986885 -0.39531671 -0.0692644 ] 0.266666666667\n",
      "after [-0.22169132 -0.31147836 -0.29179982 -0.48368952 -0.0592644 ] 0.0666666666667\n",
      "after [-0.20154554 -0.24786972 -0.30825228 -0.49772404 -0.0692644 ] 0.0666666666667\n",
      "after [-0.18139976 -0.18426108 -0.32470474 -0.51175855 -0.0792644 ] 0.0333333333333\n",
      "after [-0.16387792 -0.14678938 -0.33160637 -0.51899897 -0.0992644 ] 0.0\n",
      "after [-0.15587599 -0.12397419 -0.33574148 -0.52261919 -0.1092644 ] 0.0\n"
     ]
    }
   ],
   "source": [
    "clf.train()"
   ]
  },
  {
   "cell_type": "code",
   "execution_count": null,
   "metadata": {
    "collapsed": true
   },
   "outputs": [],
   "source": []
  }
 ],
 "metadata": {
  "kernelspec": {
   "display_name": "Python 2",
   "language": "python",
   "name": "python2"
  },
  "language_info": {
   "codemirror_mode": {
    "name": "ipython",
    "version": 2
   },
   "file_extension": ".py",
   "mimetype": "text/x-python",
   "name": "python",
   "nbconvert_exporter": "python",
   "pygments_lexer": "ipython2",
   "version": "2.7.10"
  }
 },
 "nbformat": 4,
 "nbformat_minor": 0
}
